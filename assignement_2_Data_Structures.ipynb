{
 "cells": [
  {
   "cell_type": "markdown",
   "id": "similar-tuner",
   "metadata": {},
   "source": [
    "## Linked List"
   ]
  },
  {
   "cell_type": "markdown",
   "id": "early-publication",
   "metadata": {},
   "source": [
    "#### 1) Write a class called myLinkedList that implements the following singly linked list interface:\n",
    "\n",
    "##### add_first:  adding an element at the front\n",
    "##### add_last:  adding an element at the end\n",
    "##### remove_first:  removing a node at the front\n",
    "##### list_traversal:  every node in the list has been seem"
   ]
  },
  {
   "cell_type": "markdown",
   "id": "annoying-start",
   "metadata": {},
   "source": [
    "For the below implementation of a singly linked list. \n",
    "I first created a node class with a value and next node attribute. which makes for the component that populates a linked list and holds the value"
   ]
  },
  {
   "cell_type": "code",
   "execution_count": 2,
   "id": "visible-nightlife",
   "metadata": {},
   "outputs": [],
   "source": [
    "class Node(object):\n",
    "    \n",
    "    def __init__(self, value=None):\n",
    "        self.value = value\n",
    "        self.next_node = None\n",
    "        \n",
    "    def get_value(self):\n",
    "        return self.value\n",
    "        \n",
    "    def get_next(self):\n",
    "        return self.next_node\n",
    "    \n",
    "    def set_next(self,updated_next):\n",
    "        self.next_node = updated_next\n",
    "        \n",
    "        \n",
    "    \n",
    "class myLinkedList(object):\n",
    "    \n",
    "    def __init__(self, head=None):\n",
    "        self.head= head\n",
    "        \n",
    "    def isEmpty(self):\n",
    "        \n",
    "        if self.head:\n",
    "            return False\n",
    "        else:\n",
    "            return True\n",
    "        \n",
    "    \n",
    "    def add_first(self, data):\n",
    "\n",
    "        new_node = Node(data)\n",
    "        new_node.set_next(self.head)\n",
    "        self.head = new_node\n",
    "        \n",
    "        \n",
    "        \n",
    "        \n",
    "    def add_last(self, data):\n",
    "        \n",
    "        if self.isEmpty():\n",
    "            \n",
    "            self.head = Node(data)\n",
    "\n",
    "            \n",
    "        else:\n",
    "            \n",
    "            current_node = self.head\n",
    "\n",
    "            while current_node.next_node is not None:\n",
    "                current_node = current_node.get_next()\n",
    "\n",
    "            current_node.next_node = Node(data)\n",
    "\n",
    "        \n",
    "        \n",
    "    def remove_first(self):\n",
    "        \n",
    "        #handling empty list case\n",
    "        if self.isEmpty():\n",
    "            print(\"List is empty, operation could not be performed.\")\n",
    "            \n",
    "        elif self.head.get_next() is None:\n",
    "            self.head = None\n",
    "        else:\n",
    "            self.head = self.head.get_next()\n",
    "        \n",
    "    \n",
    "    def remove_last(self):\n",
    "        \n",
    "        #handling empty list case\n",
    "        if self.isEmpty():\n",
    "            print(\"List is empty, operation could not be performed.\")\n",
    "            \n",
    "        elif self.head.get_next() is None:\n",
    "            self.head = None\n",
    "        \n",
    "        else:\n",
    "            current_node = self.head\n",
    "\n",
    "            while current_node.next_node.get_next() is not None:\n",
    "                current_node = current_node.get_next()\n",
    "                \n",
    "\n",
    "            current_node.set_next(None)\n",
    "            \n",
    "\n",
    "        \n",
    "\n",
    "            \n",
    "    def list_traversal(self):\n",
    "        \n",
    "        print(\"List contents listed from first position to last: \")\n",
    "        \n",
    "        if not self.head:\n",
    "            print(\"List is empty\")\n",
    "        \n",
    "        else:\n",
    "            \n",
    "            current_node = self.head\n",
    "        \n",
    "            while current_node is not None:\n",
    "                print(current_node.get_value())\n",
    "                current_node = current_node.get_next()\n",
    "            \n",
    "        print(\"\\nFinished!\")\n",
    "        \n",
    "        \n",
    "    \n",
    "    "
   ]
  },
  {
   "cell_type": "markdown",
   "id": "compatible-serve",
   "metadata": {},
   "source": [
    "#### Examples of operation execution"
   ]
  },
  {
   "cell_type": "code",
   "execution_count": 3,
   "id": "banned-insert",
   "metadata": {},
   "outputs": [],
   "source": [
    "mylist = myLinkedList()"
   ]
  },
  {
   "cell_type": "code",
   "execution_count": 4,
   "id": "hawaiian-affiliation",
   "metadata": {},
   "outputs": [],
   "source": [
    "mylist.add_last(5)"
   ]
  },
  {
   "cell_type": "code",
   "execution_count": 7,
   "id": "conservative-occurrence",
   "metadata": {},
   "outputs": [
    {
     "name": "stdout",
     "output_type": "stream",
     "text": [
      "List contents listed from first position to last: \n",
      "5\n",
      "\n",
      "Finished!\n"
     ]
    }
   ],
   "source": [
    "mylist.list_traversal()"
   ]
  },
  {
   "cell_type": "markdown",
   "id": "brilliant-standing",
   "metadata": {},
   "source": [
    "##### Demonstration of is_Empty() method"
   ]
  },
  {
   "cell_type": "code",
   "execution_count": 8,
   "id": "appointed-service",
   "metadata": {
    "scrolled": true
   },
   "outputs": [
    {
     "data": {
      "text/plain": [
       "False"
      ]
     },
     "execution_count": 8,
     "metadata": {},
     "output_type": "execute_result"
    }
   ],
   "source": [
    "mylist.isEmpty()"
   ]
  },
  {
   "cell_type": "code",
   "execution_count": 9,
   "id": "derived-montana",
   "metadata": {},
   "outputs": [],
   "source": [
    "mylist.add_first(7)"
   ]
  },
  {
   "cell_type": "code",
   "execution_count": 10,
   "id": "pleased-contact",
   "metadata": {},
   "outputs": [
    {
     "data": {
      "text/plain": [
       "False"
      ]
     },
     "execution_count": 10,
     "metadata": {},
     "output_type": "execute_result"
    }
   ],
   "source": [
    "mylist.isEmpty()"
   ]
  },
  {
   "cell_type": "code",
   "execution_count": 11,
   "id": "dried-october",
   "metadata": {},
   "outputs": [
    {
     "name": "stdout",
     "output_type": "stream",
     "text": [
      "List contents listed from first position to last: \n",
      "7\n",
      "5\n",
      "\n",
      "Finished!\n"
     ]
    }
   ],
   "source": [
    "mylist.list_traversal()"
   ]
  },
  {
   "cell_type": "code",
   "execution_count": 12,
   "id": "governmental-tribute",
   "metadata": {},
   "outputs": [],
   "source": [
    "mylist.remove_first()"
   ]
  },
  {
   "cell_type": "code",
   "execution_count": 13,
   "id": "psychological-injury",
   "metadata": {},
   "outputs": [
    {
     "name": "stdout",
     "output_type": "stream",
     "text": [
      "List contents listed from first position to last: \n",
      "5\n",
      "\n",
      "Finished!\n"
     ]
    }
   ],
   "source": [
    "mylist.list_traversal()"
   ]
  },
  {
   "cell_type": "markdown",
   "id": "celtic-yukon",
   "metadata": {},
   "source": [
    "##### Demonstration of list_traversal() method"
   ]
  },
  {
   "cell_type": "code",
   "execution_count": 14,
   "id": "intimate-vault",
   "metadata": {},
   "outputs": [],
   "source": [
    "mylist.add_first(7)\n",
    "mylist.add_first(8)\n",
    "mylist.add_first(9)"
   ]
  },
  {
   "cell_type": "code",
   "execution_count": 15,
   "id": "indonesian-nashville",
   "metadata": {},
   "outputs": [
    {
     "name": "stdout",
     "output_type": "stream",
     "text": [
      "List contents listed from first position to last: \n",
      "9\n",
      "8\n",
      "7\n",
      "5\n",
      "\n",
      "Finished!\n"
     ]
    }
   ],
   "source": [
    "mylist.list_traversal()"
   ]
  },
  {
   "cell_type": "code",
   "execution_count": 16,
   "id": "integrated-router",
   "metadata": {},
   "outputs": [],
   "source": [
    "mylist.add_first(5)"
   ]
  },
  {
   "cell_type": "code",
   "execution_count": 17,
   "id": "fallen-solid",
   "metadata": {},
   "outputs": [
    {
     "name": "stdout",
     "output_type": "stream",
     "text": [
      "List contents listed from first position to last: \n",
      "5\n",
      "9\n",
      "8\n",
      "7\n",
      "5\n",
      "\n",
      "Finished!\n"
     ]
    }
   ],
   "source": [
    "mylist.list_traversal()"
   ]
  },
  {
   "cell_type": "code",
   "execution_count": 18,
   "id": "brilliant-moment",
   "metadata": {},
   "outputs": [],
   "source": [
    "mylist.add_first(4)"
   ]
  },
  {
   "cell_type": "code",
   "execution_count": 19,
   "id": "technical-regard",
   "metadata": {},
   "outputs": [
    {
     "name": "stdout",
     "output_type": "stream",
     "text": [
      "List contents listed from first position to last: \n",
      "4\n",
      "5\n",
      "9\n",
      "8\n",
      "7\n",
      "5\n",
      "\n",
      "Finished!\n"
     ]
    }
   ],
   "source": [
    "mylist.list_traversal()"
   ]
  },
  {
   "cell_type": "code",
   "execution_count": 20,
   "id": "rough-animation",
   "metadata": {},
   "outputs": [],
   "source": [
    "mylist.add_last(\"kalb\")"
   ]
  },
  {
   "cell_type": "code",
   "execution_count": 21,
   "id": "backed-subscription",
   "metadata": {},
   "outputs": [
    {
     "name": "stdout",
     "output_type": "stream",
     "text": [
      "List contents listed from first position to last: \n",
      "4\n",
      "5\n",
      "9\n",
      "8\n",
      "7\n",
      "5\n",
      "kalb\n",
      "\n",
      "Finished!\n"
     ]
    }
   ],
   "source": [
    "mylist.list_traversal()"
   ]
  },
  {
   "cell_type": "code",
   "execution_count": 22,
   "id": "prompt-fishing",
   "metadata": {},
   "outputs": [],
   "source": [
    "mylist.remove_first()"
   ]
  },
  {
   "cell_type": "code",
   "execution_count": 23,
   "id": "buried-afternoon",
   "metadata": {
    "scrolled": true
   },
   "outputs": [
    {
     "name": "stdout",
     "output_type": "stream",
     "text": [
      "List contents listed from first position to last: \n",
      "5\n",
      "9\n",
      "8\n",
      "7\n",
      "5\n",
      "kalb\n",
      "\n",
      "Finished!\n"
     ]
    }
   ],
   "source": [
    "mylist.list_traversal()"
   ]
  },
  {
   "cell_type": "code",
   "execution_count": 24,
   "id": "similar-least",
   "metadata": {},
   "outputs": [],
   "source": [
    "mylist.remove_last()"
   ]
  },
  {
   "cell_type": "code",
   "execution_count": 25,
   "id": "alike-victorian",
   "metadata": {},
   "outputs": [
    {
     "name": "stdout",
     "output_type": "stream",
     "text": [
      "List contents listed from first position to last: \n",
      "5\n",
      "9\n",
      "8\n",
      "7\n",
      "5\n",
      "\n",
      "Finished!\n"
     ]
    }
   ],
   "source": [
    "mylist.list_traversal()"
   ]
  },
  {
   "cell_type": "markdown",
   "id": "cardiovascular-determination",
   "metadata": {},
   "source": [
    "#### 2) Define in your own words the terms:  stack ADT and queue ADT. List the key operations and support operations commonly associated with these ADTs.  For each ADT, givetwo real world data examples and explain them briefly"
   ]
  },
  {
   "cell_type": "markdown",
   "id": "baking-allowance",
   "metadata": {},
   "source": [
    "- linear data structure is when elements are arranged in a sequence with each element being connected to it's previous and next element. A stack is a linear structure.\n",
    "- Elements in a stack are follow the Last In First Out (LIFO) principal. This means that the last element added to the stack will be removed first.\n",
    "\n",
    "The key operations associated with a stack are:\n",
    "\n",
    "\n",
    "- push: adds an element to the stack\n",
    "- peek: returns the most recent element at the top of stack but does not remove it from the stack\n",
    "- pop: returns and removes the most recent element added to the stack\n",
    "- isEmpty: checks if stack is empty\n",
    "\n",
    "Stack data structures are useful when order is important, they are used with compilers to generate error if parentheses are not matched. They are used for Undo and Redo features since LIFO principal.\n",
    "\n",
    "- The program checks each character in the instance, if it corresponds to any opening bracket type, it is pushed to the stack.\n",
    "\n",
    "- The bracket is popped when found and if the corresponding one is popped next, then continue, if not the instance is unbalanced.\n",
    "\n",
    "- if the stack is not empty after the entire instance is scanned, the instance is unbalanced.\n",
    "\n",
    "\n",
    "For Undo/redo. Two stacks are created an undo stack and a redo stack.\n",
    "\n",
    "- When an action is performed, it's inverse action is pushed to the undo stack. \n",
    "\n",
    "- When the undo command is called the top undo stack procedure is popped and processed. A corresponding redo procedure is pushed to the redo stack.\n",
    "\n",
    "- When the redo command is called the top redo stack procedure is popped and processed and a corresponding undo procdeure will be pushed to the undo stack.\n"
   ]
  },
  {
   "cell_type": "markdown",
   "id": "dense-hammer",
   "metadata": {},
   "source": [
    "A queue is also a linear data structure, meaning that elements are arranged in a sequence with each element being connected to it's previous and next element.  \n",
    "The difference here is Elements in a queue are following to the First In First Out (FIFO) principal. This means that the last element added to the stack will be the first to be removed.\n",
    "\n",
    "The key operations associated with a queue are:\n",
    "\n",
    "- enqueue: adds an element to the rear of the queue\n",
    "- peek: returns the frontmost element from the queue but  does not remove it\n",
    "- dequeue: returns and removes the frontmost element from the queue\n",
    "- isEmpty: checks if queue is empty\n",
    "\n",
    "The queue data structure can be used when multipule requests are called on a single resource(just like a line for coffe), such as a CPU or printer. Requests are placed into the queue based on when they were called, later requests follow. \n",
    "The requests are carried in their order in the queue with FIFO guiding principal.\n",
    "\n",
    "Another application is for the transfer of asynchronous data. Such as an IO buffer, where  inputs are enqueued as they are generated. The queue is then transferred and the elements are dequeued, allowing them to be read in the order they were generated in."
   ]
  },
  {
   "cell_type": "markdown",
   "id": "banner-relevance",
   "metadata": {},
   "source": [
    "# Part II"
   ]
  },
  {
   "cell_type": "markdown",
   "id": "beginning-bishop",
   "metadata": {},
   "source": [
    "#### 1) Adopt the ADT concepts of Part I (task 2) to provide a complete implementation of a stack ADT"
   ]
  },
  {
   "cell_type": "code",
   "execution_count": 26,
   "id": "formal-farmer",
   "metadata": {},
   "outputs": [],
   "source": [
    "class Node(object):\n",
    "    \n",
    "    def __init__(self, data = None):\n",
    "        self.data = data\n",
    "        self.next_node = None\n",
    "        \n",
    "    def get_value(self):\n",
    "        return self.data\n",
    "    \n",
    "    def get_next(self):\n",
    "        return self.next_node\n",
    "    \n",
    "    def set_next(self, new_next):\n",
    "        self.next_node = new_next\n",
    "    \n",
    "\n",
    "class myStack(object):\n",
    "    \n",
    "    def __init__(self):\n",
    "        self.head= None\n",
    "        \n",
    "    def isEmpty(self):\n",
    "        if not self.head:\n",
    "            return True\n",
    "        else:\n",
    "            return False\n",
    "        \n",
    "    def pop(self):\n",
    "        \n",
    "        if self.isEmpty():\n",
    "            print(\"Stack is empty, pop operation could not be performed\")\n",
    "        else:\n",
    "            value = self.head.get_value()\n",
    "            self.head = self.head.get_next()\n",
    "            return value\n",
    "    \n",
    "    def push(self, data):\n",
    "        new_node = Node(data)\n",
    "        new_node.next_node = self.head\n",
    "        self.head = new_node\n",
    "\n",
    "    \n",
    "    def peek(self):\n",
    "        return self.head.get_value()\n",
    "    \n",
    "    def traverse(self):\n",
    "        \n",
    "        print(\"List contents listed from first position to last: \")\n",
    "            \n",
    "        if not self.head:\n",
    "            print(\"List is empty\")\n",
    "        \n",
    "        else:\n",
    "            \n",
    "            current_node = self.head\n",
    "        \n",
    "            while current_node is not None:\n",
    "                print(current_node.get_value())\n",
    "                current_node = current_node.get_next()\n",
    "            \n",
    "        print(\"\\nFinished!\")\n",
    "        \n",
    "    def get_length(self):\n",
    "        \n",
    "        if self.isEmpty():\n",
    "            return 0\n",
    "        else:\n",
    "            length = 0\n",
    "            current = self.head\n",
    "            \n",
    "            while current != None:\n",
    "                length += 1\n",
    "                current = current.get_next()\n",
    "                \n",
    "            print(\"Returning stack length: \")   \n",
    "                \n",
    "            return length\n",
    "    "
   ]
  },
  {
   "cell_type": "markdown",
   "id": "entire-convertible",
   "metadata": {},
   "source": [
    "#### 2) Values returned during the requested series of operations on the stack"
   ]
  },
  {
   "cell_type": "code",
   "execution_count": 27,
   "id": "center-creation",
   "metadata": {},
   "outputs": [],
   "source": [
    "S = myStack()"
   ]
  },
  {
   "cell_type": "code",
   "execution_count": 28,
   "id": "sweet-embassy",
   "metadata": {
    "scrolled": true
   },
   "outputs": [],
   "source": [
    "S.push(5)"
   ]
  },
  {
   "cell_type": "code",
   "execution_count": 29,
   "id": "conservative-sheffield",
   "metadata": {},
   "outputs": [],
   "source": [
    "S.push(3)"
   ]
  },
  {
   "cell_type": "code",
   "execution_count": 30,
   "id": "personalized-panel",
   "metadata": {},
   "outputs": [
    {
     "name": "stdout",
     "output_type": "stream",
     "text": [
      "List contents listed from first position to last: \n",
      "3\n",
      "5\n",
      "\n",
      "Finished!\n"
     ]
    }
   ],
   "source": [
    "S.traverse()"
   ]
  },
  {
   "cell_type": "code",
   "execution_count": 31,
   "id": "spanish-payroll",
   "metadata": {},
   "outputs": [
    {
     "data": {
      "text/plain": [
       "3"
      ]
     },
     "execution_count": 31,
     "metadata": {},
     "output_type": "execute_result"
    }
   ],
   "source": [
    "S.pop()"
   ]
  },
  {
   "cell_type": "code",
   "execution_count": 32,
   "id": "incomplete-revelation",
   "metadata": {},
   "outputs": [],
   "source": [
    "S.push(2)"
   ]
  },
  {
   "cell_type": "code",
   "execution_count": 33,
   "id": "duplicate-metropolitan",
   "metadata": {},
   "outputs": [],
   "source": [
    "S.push(8)"
   ]
  },
  {
   "cell_type": "code",
   "execution_count": 34,
   "id": "differential-sweet",
   "metadata": {},
   "outputs": [
    {
     "data": {
      "text/plain": [
       "8"
      ]
     },
     "execution_count": 34,
     "metadata": {},
     "output_type": "execute_result"
    }
   ],
   "source": [
    "S.pop()"
   ]
  },
  {
   "cell_type": "code",
   "execution_count": 35,
   "id": "skilled-carter",
   "metadata": {},
   "outputs": [
    {
     "data": {
      "text/plain": [
       "2"
      ]
     },
     "execution_count": 35,
     "metadata": {},
     "output_type": "execute_result"
    }
   ],
   "source": [
    "S.pop()"
   ]
  },
  {
   "cell_type": "code",
   "execution_count": 36,
   "id": "iraqi-probability",
   "metadata": {},
   "outputs": [],
   "source": [
    "S.push(9)"
   ]
  },
  {
   "cell_type": "code",
   "execution_count": 37,
   "id": "exposed-covering",
   "metadata": {},
   "outputs": [],
   "source": [
    "S.push(1)"
   ]
  },
  {
   "cell_type": "code",
   "execution_count": 38,
   "id": "educated-sunrise",
   "metadata": {},
   "outputs": [
    {
     "data": {
      "text/plain": [
       "1"
      ]
     },
     "execution_count": 38,
     "metadata": {},
     "output_type": "execute_result"
    }
   ],
   "source": [
    "S.pop()"
   ]
  },
  {
   "cell_type": "code",
   "execution_count": 39,
   "id": "whole-welding",
   "metadata": {},
   "outputs": [
    {
     "name": "stdout",
     "output_type": "stream",
     "text": [
      "List contents listed from first position to last: \n",
      "9\n",
      "5\n",
      "\n",
      "Finished!\n"
     ]
    }
   ],
   "source": [
    "S.traverse()"
   ]
  },
  {
   "cell_type": "code",
   "execution_count": 40,
   "id": "future-taxation",
   "metadata": {},
   "outputs": [],
   "source": [
    "S.push(7)"
   ]
  },
  {
   "cell_type": "code",
   "execution_count": 41,
   "id": "beautiful-burke",
   "metadata": {},
   "outputs": [],
   "source": [
    "S.push(6)"
   ]
  },
  {
   "cell_type": "code",
   "execution_count": 42,
   "id": "unlike-spencer",
   "metadata": {},
   "outputs": [
    {
     "data": {
      "text/plain": [
       "6"
      ]
     },
     "execution_count": 42,
     "metadata": {},
     "output_type": "execute_result"
    }
   ],
   "source": [
    "S.pop()"
   ]
  },
  {
   "cell_type": "code",
   "execution_count": 43,
   "id": "persistent-small",
   "metadata": {},
   "outputs": [
    {
     "data": {
      "text/plain": [
       "7"
      ]
     },
     "execution_count": 43,
     "metadata": {},
     "output_type": "execute_result"
    }
   ],
   "source": [
    "S.pop()"
   ]
  },
  {
   "cell_type": "code",
   "execution_count": 44,
   "id": "documented-irish",
   "metadata": {},
   "outputs": [],
   "source": [
    "S.push(4)"
   ]
  },
  {
   "cell_type": "code",
   "execution_count": 45,
   "id": "agreed-designation",
   "metadata": {},
   "outputs": [
    {
     "data": {
      "text/plain": [
       "4"
      ]
     },
     "execution_count": 45,
     "metadata": {},
     "output_type": "execute_result"
    }
   ],
   "source": [
    "S.pop()"
   ]
  },
  {
   "cell_type": "code",
   "execution_count": 46,
   "id": "hired-person",
   "metadata": {},
   "outputs": [
    {
     "name": "stdout",
     "output_type": "stream",
     "text": [
      "List contents listed from first position to last: \n",
      "9\n",
      "5\n",
      "\n",
      "Finished!\n"
     ]
    }
   ],
   "source": [
    "S.traverse()"
   ]
  },
  {
   "cell_type": "code",
   "execution_count": 47,
   "id": "bronze-status",
   "metadata": {},
   "outputs": [
    {
     "data": {
      "text/plain": [
       "9"
      ]
     },
     "execution_count": 47,
     "metadata": {},
     "output_type": "execute_result"
    }
   ],
   "source": [
    "S.pop()"
   ]
  },
  {
   "cell_type": "markdown",
   "id": "unauthorized-niagara",
   "metadata": {},
   "source": [
    "#### 3) Suppose an initially empty stack S has executed a total of 35 push operations, 15 top operations, and 10 pop operations, 3 of which raised Empty errors that were caught and ignored.What is the current size of S?"
   ]
  },
  {
   "cell_type": "markdown",
   "id": "demanding-store",
   "metadata": {},
   "source": [
    "If 3 of the pop operations raise empty errors, there are 7 pop operations that succeed. All 35 push operations succeed. Therefore, 35 elements are added and 7 are removed. \n",
    "\n",
    "35-7 = 28 \n",
    "\n",
    "Therefore, there are 28 elements in S, meaning S has a length of 28"
   ]
  },
  {
   "cell_type": "code",
   "execution_count": 50,
   "id": "specialized-mason",
   "metadata": {},
   "outputs": [
    {
     "name": "stdout",
     "output_type": "stream",
     "text": [
      "Stack is empty, pop operation could not be performed\n",
      "Stack is empty, pop operation could not be performed\n",
      "Stack is empty, pop operation could not be performed\n",
      "Returning stack length: \n",
      "The size of S is: 28\n"
     ]
    }
   ],
   "source": [
    "S = myStack()\n",
    "\n",
    "for _ in range(3):\n",
    "    S.pop()\n",
    "    \n",
    "nums_pushed = [i for i in range(35)]\n",
    "len(nums_pushed)\n",
    "\n",
    "for num in nums_pushed:\n",
    "    S.push(num)\n",
    "    \n",
    "for _ in range(7):\n",
    "    S.pop()\n",
    "    \n",
    "print(f\"The size of S is: {S.get_length()}\")"
   ]
  },
  {
   "cell_type": "markdown",
   "id": "promotional-south",
   "metadata": {},
   "source": [
    "#### Therefore the current size of S is 28"
   ]
  },
  {
   "cell_type": "markdown",
   "id": "digital-smart",
   "metadata": {},
   "source": [
    "## Queue implementation"
   ]
  },
  {
   "cell_type": "code",
   "execution_count": 52,
   "id": "electronic-pension",
   "metadata": {},
   "outputs": [],
   "source": [
    "class Node(object):\n",
    "    \n",
    "    def __init__(self, data = None):\n",
    "        self.data = data\n",
    "        self.next_node = None\n",
    "        self.prev_node = None\n",
    "        \n",
    "    def get_value(self):\n",
    "        return self.data\n",
    "    \n",
    "    def get_next(self):\n",
    "        return self.next_node\n",
    "    \n",
    "    def set_next(self, new_next):\n",
    "        self.next_node = new_next\n",
    "    \n",
    "\n",
    "class myQueue(object):\n",
    "    \n",
    "    def __init__(self):\n",
    "        self.head= None\n",
    "        self.tail= None    \n",
    "        \n",
    "    def isEmpty(self):\n",
    "        if not self.head:\n",
    "            return True\n",
    "        else:\n",
    "            return False\n",
    "        \n",
    "        \n",
    "    def enqueue(self, data):\n",
    "        \n",
    "        new_node = Node(data)\n",
    "        \n",
    "        if self.isEmpty():\n",
    "            \n",
    "            self.head = new_node\n",
    "            self.tail = new_node\n",
    "            \n",
    "        else:\n",
    "            self.tail.next_node = new_node\n",
    "            self.tail = new_node\n",
    "            \n",
    "            \n",
    "    def dequeue(self):\n",
    "        \n",
    "        if self.isEmpty():\n",
    "            print(\"Error: isEmpty, operation ignored\") \n",
    "        else:\n",
    "            value = self.head.get_value()\n",
    "            self.head = self.head.get_next()\n",
    "            return value\n",
    "    \n",
    "    def traverse(self):\n",
    "        \n",
    "        current = self.head\n",
    "        \n",
    "        while current != None:\n",
    "            print(current.get_value())\n",
    "            current = current.get_next()\n",
    "            \n",
    "        print(\"Finished!\")\n",
    "    \n",
    "    def get_length(self):\n",
    "        \n",
    "        if self.isEmpty():\n",
    "            return 0\n",
    "        else:\n",
    "            length = 0\n",
    "            current = self.head\n",
    "            \n",
    "            \n",
    "            while current != None:\n",
    "                length += 1\n",
    "                current = current.get_next()\n",
    "        \n",
    "            return length\n",
    "                \n",
    "    def peek(self):\n",
    "        return self.head.get_value()\n",
    "  "
   ]
  },
  {
   "cell_type": "markdown",
   "id": "applicable-mention",
   "metadata": {},
   "source": [
    "#### 2) Values returned during the requested series of operations on the queue"
   ]
  },
  {
   "cell_type": "code",
   "execution_count": 53,
   "id": "narrative-humidity",
   "metadata": {},
   "outputs": [],
   "source": [
    "Q = myQueue()"
   ]
  },
  {
   "cell_type": "code",
   "execution_count": 54,
   "id": "boring-majority",
   "metadata": {},
   "outputs": [],
   "source": [
    "Q.enqueue(5)"
   ]
  },
  {
   "cell_type": "code",
   "execution_count": 55,
   "id": "gross-classroom",
   "metadata": {},
   "outputs": [],
   "source": [
    "Q.enqueue(3)"
   ]
  },
  {
   "cell_type": "code",
   "execution_count": 56,
   "id": "scientific-brain",
   "metadata": {},
   "outputs": [
    {
     "data": {
      "text/plain": [
       "5"
      ]
     },
     "execution_count": 56,
     "metadata": {},
     "output_type": "execute_result"
    }
   ],
   "source": [
    "Q.dequeue()"
   ]
  },
  {
   "cell_type": "code",
   "execution_count": 58,
   "id": "detailed-substance",
   "metadata": {},
   "outputs": [
    {
     "name": "stdout",
     "output_type": "stream",
     "text": [
      "3\n",
      "Finished!\n"
     ]
    }
   ],
   "source": [
    "Q.traverse()"
   ]
  },
  {
   "cell_type": "code",
   "execution_count": 59,
   "id": "correct-agency",
   "metadata": {},
   "outputs": [],
   "source": [
    "Q.enqueue(2)"
   ]
  },
  {
   "cell_type": "code",
   "execution_count": 60,
   "id": "mediterranean-element",
   "metadata": {},
   "outputs": [],
   "source": [
    "Q.enqueue(8)"
   ]
  },
  {
   "cell_type": "code",
   "execution_count": 61,
   "id": "special-acrylic",
   "metadata": {},
   "outputs": [
    {
     "data": {
      "text/plain": [
       "3"
      ]
     },
     "execution_count": 61,
     "metadata": {},
     "output_type": "execute_result"
    }
   ],
   "source": [
    "Q.dequeue()"
   ]
  },
  {
   "cell_type": "code",
   "execution_count": 62,
   "id": "solved-canon",
   "metadata": {},
   "outputs": [
    {
     "data": {
      "text/plain": [
       "2"
      ]
     },
     "execution_count": 62,
     "metadata": {},
     "output_type": "execute_result"
    }
   ],
   "source": [
    "Q.dequeue()"
   ]
  },
  {
   "cell_type": "code",
   "execution_count": 63,
   "id": "residential-species",
   "metadata": {},
   "outputs": [],
   "source": [
    "Q.enqueue(9)"
   ]
  },
  {
   "cell_type": "code",
   "execution_count": 64,
   "id": "incorrect-assurance",
   "metadata": {},
   "outputs": [
    {
     "name": "stdout",
     "output_type": "stream",
     "text": [
      "8\n",
      "9\n",
      "Finished!\n"
     ]
    }
   ],
   "source": [
    "Q.traverse()"
   ]
  },
  {
   "cell_type": "code",
   "execution_count": 65,
   "id": "preliminary-jacksonville",
   "metadata": {},
   "outputs": [],
   "source": [
    "Q.enqueue(1)"
   ]
  },
  {
   "cell_type": "code",
   "execution_count": 66,
   "id": "convertible-cookbook",
   "metadata": {},
   "outputs": [
    {
     "data": {
      "text/plain": [
       "8"
      ]
     },
     "execution_count": 66,
     "metadata": {},
     "output_type": "execute_result"
    }
   ],
   "source": [
    "Q.dequeue()"
   ]
  },
  {
   "cell_type": "code",
   "execution_count": 67,
   "id": "brilliant-indie",
   "metadata": {},
   "outputs": [],
   "source": [
    "Q.enqueue(7)"
   ]
  },
  {
   "cell_type": "code",
   "execution_count": 68,
   "id": "tropical-funeral",
   "metadata": {},
   "outputs": [],
   "source": [
    "Q.enqueue(6)"
   ]
  },
  {
   "cell_type": "code",
   "execution_count": 69,
   "id": "fantastic-mercy",
   "metadata": {},
   "outputs": [],
   "source": [
    "Q.enqueue(6)"
   ]
  },
  {
   "cell_type": "code",
   "execution_count": 70,
   "id": "unlikely-indonesia",
   "metadata": {},
   "outputs": [
    {
     "name": "stdout",
     "output_type": "stream",
     "text": [
      "9\n",
      "1\n",
      "7\n",
      "6\n",
      "6\n",
      "Finished!\n"
     ]
    }
   ],
   "source": [
    "Q.traverse()"
   ]
  },
  {
   "cell_type": "code",
   "execution_count": 71,
   "id": "matched-jurisdiction",
   "metadata": {},
   "outputs": [
    {
     "data": {
      "text/plain": [
       "9"
      ]
     },
     "execution_count": 71,
     "metadata": {},
     "output_type": "execute_result"
    }
   ],
   "source": [
    "Q.dequeue()"
   ]
  },
  {
   "cell_type": "code",
   "execution_count": 72,
   "id": "illegal-judgment",
   "metadata": {},
   "outputs": [
    {
     "data": {
      "text/plain": [
       "1"
      ]
     },
     "execution_count": 72,
     "metadata": {},
     "output_type": "execute_result"
    }
   ],
   "source": [
    "Q.dequeue()"
   ]
  },
  {
   "cell_type": "code",
   "execution_count": 73,
   "id": "improved-titanium",
   "metadata": {},
   "outputs": [],
   "source": [
    "Q.enqueue(4)"
   ]
  },
  {
   "cell_type": "code",
   "execution_count": 74,
   "id": "cosmetic-product",
   "metadata": {},
   "outputs": [
    {
     "name": "stdout",
     "output_type": "stream",
     "text": [
      "7\n",
      "6\n",
      "6\n",
      "4\n",
      "Finished!\n"
     ]
    }
   ],
   "source": [
    "Q.traverse()"
   ]
  },
  {
   "cell_type": "code",
   "execution_count": 75,
   "id": "consolidated-workstation",
   "metadata": {},
   "outputs": [
    {
     "data": {
      "text/plain": [
       "7"
      ]
     },
     "execution_count": 75,
     "metadata": {},
     "output_type": "execute_result"
    }
   ],
   "source": [
    "Q.dequeue()"
   ]
  },
  {
   "cell_type": "code",
   "execution_count": 76,
   "id": "outstanding-dealer",
   "metadata": {
    "scrolled": true
   },
   "outputs": [
    {
     "data": {
      "text/plain": [
       "6"
      ]
     },
     "execution_count": 76,
     "metadata": {},
     "output_type": "execute_result"
    }
   ],
   "source": [
    "Q.dequeue()"
   ]
  },
  {
   "cell_type": "markdown",
   "id": "mathematical-habitat",
   "metadata": {},
   "source": [
    "#### 3) Suppose an initially empty queue Q has executed a total of 50 enqueue operations, 15 top operations, and 15 dequeue operations, 5 of which raised Empty errors that were caught and ignored.  What is the current size of Q?"
   ]
  },
  {
   "cell_type": "markdown",
   "id": "polished-breathing",
   "metadata": {},
   "source": [
    "If 5 of the dequeue operations raise empty errors, there are 10 dequeue operations that succeed. All 50 enqueue operations succeed. Therefore, 50 elements are added and 10 are removed. \n",
    "\n",
    "50- 10 = 40 "
   ]
  },
  {
   "cell_type": "code",
   "execution_count": 77,
   "id": "arctic-sheep",
   "metadata": {},
   "outputs": [
    {
     "name": "stdout",
     "output_type": "stream",
     "text": [
      "It is currently True that the queue Q is empty.\n",
      "\n",
      "Error: isEmpty, operation ignored\n",
      "Error: isEmpty, operation ignored\n",
      "Error: isEmpty, operation ignored\n",
      "Error: isEmpty, operation ignored\n",
      "Error: isEmpty, operation ignored\n",
      "\n",
      "The current length of Q is: 40\n"
     ]
    }
   ],
   "source": [
    "Q = myQueue()\n",
    "\n",
    "\n",
    "#checking empty status\n",
    "print(f\"It is currently {Q.isEmpty()} that the queue Q is empty.\\n\")\n",
    "\n",
    "\n",
    "#variables for number of successful/unsuccessful commands\n",
    "num_dequeue= 15\n",
    "num_failed_dequeue = 5\n",
    "num_successful_dequeue= num_dequeue - num_failed_dequeue\n",
    "\n",
    "num_enqueue = 50\n",
    "\n",
    "num_peek= 15\n",
    "\n",
    "#executing commands\n",
    "for all_ in range(num_failed_dequeue):\n",
    "    Q.dequeue()\n",
    "    \n",
    "enqueue_nums = [i for i in range(num_enqueue)]\n",
    "\n",
    "for num in enqueue_nums:\n",
    "    Q.enqueue(num)\n",
    "    \n",
    "for all_ in range(num_peek):\n",
    "    Q.peek()\n",
    "    \n",
    "for all_ in range(num_successful_dequeue):\n",
    "    Q.dequeue()\n",
    "\n",
    "#printing formatted length\n",
    "print(f\"\\nThe current length of Q is: {Q.get_length()}\")"
   ]
  },
  {
   "cell_type": "markdown",
   "id": "sitting-title",
   "metadata": {},
   "source": [
    "#### Therefore the current size of Q is 40"
   ]
  },
  {
   "cell_type": "code",
   "execution_count": 78,
   "id": "prerequisite-sellers",
   "metadata": {},
   "outputs": [
    {
     "name": "stderr",
     "output_type": "stream",
     "text": [
      "test_add_first (__main__.TestMyListMethods) ... ok\n",
      "test_add_last (__main__.TestMyListMethods) ... ok\n",
      "test_empty_list (__main__.TestMyListMethods) ... ok\n",
      "test_remove_first (__main__.TestMyListMethods) ... ok\n",
      "test_remove_last (__main__.TestMyListMethods) ... ok\n",
      "test_empty_stack (__main__.TestMyStackMethods) ... ok\n",
      "test_get_length (__main__.TestMyStackMethods) ... ok\n",
      "test_peek (__main__.TestMyStackMethods) ... ok\n",
      "test_pop (__main__.TestMyStackMethods) ... ok\n",
      "test_push (__main__.TestMyStackMethods) ... ok\n",
      "test_dequeue (__main__.TestQMethods) ... ok\n",
      "test_empty_emptyQueue (__main__.TestQMethods) ... ok\n",
      "test_enqueue (__main__.TestQMethods) ... ok\n",
      "test_get_length (__main__.TestQMethods) ... ok\n",
      "test_peek (__main__.TestQMethods) ... ok\n",
      "\n",
      "----------------------------------------------------------------------\n",
      "Ran 15 tests in 0.015s\n",
      "\n",
      "OK\n"
     ]
    },
    {
     "data": {
      "text/plain": [
       "<unittest.main.TestProgram at 0x1b021fc7c08>"
      ]
     },
     "execution_count": 78,
     "metadata": {},
     "output_type": "execute_result"
    }
   ],
   "source": [
    "import unittest\n",
    "class TestQMethods(unittest.TestCase):\n",
    "    \n",
    "\n",
    "    def test_empty_emptyQueue(self):\n",
    "        testQueue = myQueue()\n",
    "        self.assertTrue(testQueue.isEmpty(), \"Failed: Expected True!\")\n",
    "        \n",
    "    def test_enqueue(self):\n",
    "        testQueue= myQueue()\n",
    "        testQueue2= myQueue()\n",
    "        testQueue2.enqueue(5)\n",
    "        self.assertNotEqual(testQueue.get_length() ,testQueue2.get_length() , \"none\")\n",
    "        \n",
    "    def test_dequeue(self):\n",
    "        testQueue= myQueue()\n",
    "        testQueue.enqueue(5)\n",
    "        testQueue.dequeue()\n",
    "        self.assertTrue(testQueue.isEmpty(), \"Failed: Expected True!\")\n",
    "    \n",
    "    def test_get_length(self):\n",
    "        testQ = myQueue()\n",
    "        testQ2 = myQueue()\n",
    "        testQ.enqueue(5)\n",
    "        testQ2.enqueue(5)\n",
    "        self.assertNotEqual(testQ.get_length, 0, \"Failed: Should be the same length\")\n",
    "    \n",
    "    def test_peek(self):\n",
    "        testQ=myQueue()\n",
    "        testQ.enqueue(5)\n",
    "        self.assertEqual(testQ.peek(), 5)\n",
    "        \n",
    "class TestMyStackMethods(unittest.TestCase):\n",
    "    \n",
    "    def test_empty_stack(self):\n",
    "        S = myStack()\n",
    "        self.assertTrue(S.isEmpty(), \"Failed: Should be Empty!\")\n",
    "    \n",
    "    def test_push(self):\n",
    "        S = myStack()\n",
    "        S.push(5)\n",
    "        self.assertFalse(S.isEmpty(), \"none\")\n",
    "        \n",
    "    def test_pop(self):\n",
    "        S = myStack()\n",
    "        S.push(4)\n",
    "        self.assertEqual(S.pop(), 4)\n",
    "        \n",
    "    def test_get_length(self):\n",
    "        S = myStack()\n",
    "        S.push(5)\n",
    "        self.assertNotEqual(S.get_length, 0)\n",
    "    \n",
    "    def test_peek(self):\n",
    "        S = myStack()\n",
    "        S.push(5)\n",
    "        self.assertEqual(S.peek(), 5)\n",
    "\n",
    "class TestMyListMethods(unittest.TestCase):\n",
    "    \n",
    "    def test_empty_list(self):\n",
    "        L = myLinkedList()\n",
    "        self.assertTrue(L.isEmpty())\n",
    "    def test_add_first(self):\n",
    "        L = myLinkedList()\n",
    "        L.add_first(5)\n",
    "        self.assertFalse(L.isEmpty())\n",
    "    def test_add_last(self):\n",
    "        L = myLinkedList()\n",
    "        L.add_last(5)\n",
    "        self.assertFalse(L.isEmpty())\n",
    "    def test_remove_first(self):\n",
    "        L = myLinkedList()\n",
    "        L.add_first(5)\n",
    "        self.assertFalse(L.isEmpty())\n",
    "        L.remove_first()\n",
    "        self.assertTrue(L.isEmpty())\n",
    "    def test_remove_last(self):\n",
    "        L = myLinkedList()\n",
    "        L.add_last(5)\n",
    "        self.assertFalse(L.isEmpty())\n",
    "        L.remove_last()\n",
    "        self.assertTrue(L.isEmpty())\n",
    "        \n",
    "        \n",
    "unittest.main(argv=[\"\"],verbosity=2, exit=False)"
   ]
  }
 ],
 "metadata": {
  "kernelspec": {
   "display_name": "Python 3",
   "language": "python",
   "name": "python3"
  },
  "language_info": {
   "codemirror_mode": {
    "name": "ipython",
    "version": 3
   },
   "file_extension": ".py",
   "mimetype": "text/x-python",
   "name": "python",
   "nbconvert_exporter": "python",
   "pygments_lexer": "ipython3",
   "version": "3.7.9"
  }
 },
 "nbformat": 4,
 "nbformat_minor": 5
}
